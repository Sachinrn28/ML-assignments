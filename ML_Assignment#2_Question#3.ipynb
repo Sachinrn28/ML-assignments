{
 "cells": [
  {
   "cell_type": "markdown",
   "id": "8c9ddedb",
   "metadata": {},
   "source": [
    "### Build a machine learning model to estimate percentage of abese population"
   ]
  },
  {
   "cell_type": "code",
   "execution_count": 54,
   "id": "3a3a118a",
   "metadata": {},
   "outputs": [],
   "source": [
    "# Importing the libraries\n",
    "import pandas as pd\n",
    "import numpy as np\n",
    "import matplotlib.pyplot as plt\n",
    "import seaborn as sns"
   ]
  },
  {
   "cell_type": "code",
   "execution_count": 70,
   "id": "7a5496b2",
   "metadata": {},
   "outputs": [],
   "source": [
    "df=pd.read_csv(r'E:\\Data Is Everything\\Edyoda\\archive (1)\\Nutrition__Physical_Activity.csv')"
   ]
  },
  {
   "cell_type": "code",
   "execution_count": 71,
   "id": "e451eaed",
   "metadata": {},
   "outputs": [
    {
     "data": {
      "text/html": [
       "<div>\n",
       "<style scoped>\n",
       "    .dataframe tbody tr th:only-of-type {\n",
       "        vertical-align: middle;\n",
       "    }\n",
       "\n",
       "    .dataframe tbody tr th {\n",
       "        vertical-align: top;\n",
       "    }\n",
       "\n",
       "    .dataframe thead th {\n",
       "        text-align: right;\n",
       "    }\n",
       "</style>\n",
       "<table border=\"1\" class=\"dataframe\">\n",
       "  <thead>\n",
       "    <tr style=\"text-align: right;\">\n",
       "      <th></th>\n",
       "      <th>YearStart</th>\n",
       "      <th>YearEnd</th>\n",
       "      <th>LocationAbbr</th>\n",
       "      <th>LocationDesc</th>\n",
       "      <th>Datasource</th>\n",
       "      <th>Class</th>\n",
       "      <th>Topic</th>\n",
       "      <th>Question</th>\n",
       "      <th>Data_Value_Unit</th>\n",
       "      <th>Data_Value_Type</th>\n",
       "      <th>...</th>\n",
       "      <th>GeoLocation</th>\n",
       "      <th>ClassID</th>\n",
       "      <th>TopicID</th>\n",
       "      <th>QuestionID</th>\n",
       "      <th>DataValueTypeID</th>\n",
       "      <th>LocationID</th>\n",
       "      <th>StratificationCategory1</th>\n",
       "      <th>Stratification1</th>\n",
       "      <th>StratificationCategoryId1</th>\n",
       "      <th>StratificationID1</th>\n",
       "    </tr>\n",
       "  </thead>\n",
       "  <tbody>\n",
       "    <tr>\n",
       "      <th>52286</th>\n",
       "      <td>2016</td>\n",
       "      <td>2016</td>\n",
       "      <td>IL</td>\n",
       "      <td>Illinois</td>\n",
       "      <td>Behavioral Risk Factor Surveillance System</td>\n",
       "      <td>Physical Activity</td>\n",
       "      <td>Physical Activity - Behavior</td>\n",
       "      <td>Percent of adults who engage in no leisure-tim...</td>\n",
       "      <td>NaN</td>\n",
       "      <td>Value</td>\n",
       "      <td>...</td>\n",
       "      <td>(40.48501028300046, -88.99771017799969)</td>\n",
       "      <td>PA</td>\n",
       "      <td>PA1</td>\n",
       "      <td>Q047</td>\n",
       "      <td>VALUE</td>\n",
       "      <td>17</td>\n",
       "      <td>Gender</td>\n",
       "      <td>Female</td>\n",
       "      <td>GEN</td>\n",
       "      <td>FEMALE</td>\n",
       "    </tr>\n",
       "    <tr>\n",
       "      <th>43871</th>\n",
       "      <td>2015</td>\n",
       "      <td>2015</td>\n",
       "      <td>SC</td>\n",
       "      <td>South Carolina</td>\n",
       "      <td>Behavioral Risk Factor Surveillance System</td>\n",
       "      <td>Physical Activity</td>\n",
       "      <td>Physical Activity - Behavior</td>\n",
       "      <td>Percent of adults who achieve at least 300 min...</td>\n",
       "      <td>NaN</td>\n",
       "      <td>Value</td>\n",
       "      <td>...</td>\n",
       "      <td>(33.998821303000454, -81.04537120699968)</td>\n",
       "      <td>PA</td>\n",
       "      <td>PA1</td>\n",
       "      <td>Q045</td>\n",
       "      <td>VALUE</td>\n",
       "      <td>45</td>\n",
       "      <td>Age (years)</td>\n",
       "      <td>45 - 54</td>\n",
       "      <td>AGEYR</td>\n",
       "      <td>AGEYR4554</td>\n",
       "    </tr>\n",
       "    <tr>\n",
       "      <th>51583</th>\n",
       "      <td>2016</td>\n",
       "      <td>2016</td>\n",
       "      <td>UT</td>\n",
       "      <td>Utah</td>\n",
       "      <td>Behavioral Risk Factor Surveillance System</td>\n",
       "      <td>Obesity / Weight Status</td>\n",
       "      <td>Obesity / Weight Status</td>\n",
       "      <td>Percent of adults aged 18 years and older who ...</td>\n",
       "      <td>NaN</td>\n",
       "      <td>Value</td>\n",
       "      <td>...</td>\n",
       "      <td>(39.360700171000474, -111.58713063499971)</td>\n",
       "      <td>OWS</td>\n",
       "      <td>OWS1</td>\n",
       "      <td>Q036</td>\n",
       "      <td>VALUE</td>\n",
       "      <td>49</td>\n",
       "      <td>Gender</td>\n",
       "      <td>Male</td>\n",
       "      <td>GEN</td>\n",
       "      <td>MALE</td>\n",
       "    </tr>\n",
       "  </tbody>\n",
       "</table>\n",
       "<p>3 rows × 33 columns</p>\n",
       "</div>"
      ],
      "text/plain": [
       "       YearStart  YearEnd LocationAbbr    LocationDesc  \\\n",
       "52286       2016     2016           IL        Illinois   \n",
       "43871       2015     2015           SC  South Carolina   \n",
       "51583       2016     2016           UT            Utah   \n",
       "\n",
       "                                       Datasource                    Class  \\\n",
       "52286  Behavioral Risk Factor Surveillance System        Physical Activity   \n",
       "43871  Behavioral Risk Factor Surveillance System        Physical Activity   \n",
       "51583  Behavioral Risk Factor Surveillance System  Obesity / Weight Status   \n",
       "\n",
       "                              Topic  \\\n",
       "52286  Physical Activity - Behavior   \n",
       "43871  Physical Activity - Behavior   \n",
       "51583       Obesity / Weight Status   \n",
       "\n",
       "                                                Question  Data_Value_Unit  \\\n",
       "52286  Percent of adults who engage in no leisure-tim...              NaN   \n",
       "43871  Percent of adults who achieve at least 300 min...              NaN   \n",
       "51583  Percent of adults aged 18 years and older who ...              NaN   \n",
       "\n",
       "      Data_Value_Type  ...                                GeoLocation  \\\n",
       "52286           Value  ...    (40.48501028300046, -88.99771017799969)   \n",
       "43871           Value  ...   (33.998821303000454, -81.04537120699968)   \n",
       "51583           Value  ...  (39.360700171000474, -111.58713063499971)   \n",
       "\n",
       "       ClassID TopicID QuestionID  DataValueTypeID  LocationID  \\\n",
       "52286       PA     PA1       Q047            VALUE          17   \n",
       "43871       PA     PA1       Q045            VALUE          45   \n",
       "51583      OWS    OWS1       Q036            VALUE          49   \n",
       "\n",
       "       StratificationCategory1 Stratification1 StratificationCategoryId1  \\\n",
       "52286                   Gender          Female                       GEN   \n",
       "43871              Age (years)         45 - 54                     AGEYR   \n",
       "51583                   Gender            Male                       GEN   \n",
       "\n",
       "      StratificationID1  \n",
       "52286            FEMALE  \n",
       "43871         AGEYR4554  \n",
       "51583              MALE  \n",
       "\n",
       "[3 rows x 33 columns]"
      ]
     },
     "execution_count": 71,
     "metadata": {},
     "output_type": "execute_result"
    }
   ],
   "source": [
    "df.sample(3)"
   ]
  },
  {
   "cell_type": "markdown",
   "id": "d945f058",
   "metadata": {},
   "source": [
    "# EDA\n"
   ]
  },
  {
   "cell_type": "code",
   "execution_count": 72,
   "id": "43212591",
   "metadata": {},
   "outputs": [
    {
     "data": {
      "text/plain": [
       "(53392, 33)"
      ]
     },
     "execution_count": 72,
     "metadata": {},
     "output_type": "execute_result"
    }
   ],
   "source": [
    "df.shape"
   ]
  },
  {
   "cell_type": "code",
   "execution_count": 73,
   "id": "59a67bdd",
   "metadata": {},
   "outputs": [
    {
     "data": {
      "text/plain": [
       "Index(['YearStart', 'YearEnd', 'LocationAbbr', 'LocationDesc', 'Datasource',\n",
       "       'Class', 'Topic', 'Question', 'Data_Value_Unit', 'Data_Value_Type',\n",
       "       'Data_Value', 'Data_Value_Alt', 'Data_Value_Footnote_Symbol',\n",
       "       'Data_Value_Footnote', 'Low_Confidence_Limit', 'High_Confidence_Limit ',\n",
       "       'Sample_Size', 'Total', 'Age(years)', 'Education', 'Gender', 'Income',\n",
       "       'Race/Ethnicity', 'GeoLocation', 'ClassID', 'TopicID', 'QuestionID',\n",
       "       'DataValueTypeID', 'LocationID', 'StratificationCategory1',\n",
       "       'Stratification1', 'StratificationCategoryId1', 'StratificationID1'],\n",
       "      dtype='object')"
      ]
     },
     "execution_count": 73,
     "metadata": {},
     "output_type": "execute_result"
    }
   ],
   "source": [
    "df.columns"
   ]
  },
  {
   "cell_type": "code",
   "execution_count": 74,
   "id": "7fcbdf04",
   "metadata": {},
   "outputs": [
    {
     "name": "stdout",
     "output_type": "stream",
     "text": [
      "<class 'pandas.core.frame.DataFrame'>\n",
      "RangeIndex: 53392 entries, 0 to 53391\n",
      "Data columns (total 33 columns):\n",
      " #   Column                      Non-Null Count  Dtype  \n",
      "---  ------                      --------------  -----  \n",
      " 0   YearStart                   53392 non-null  int64  \n",
      " 1   YearEnd                     53392 non-null  int64  \n",
      " 2   LocationAbbr                53392 non-null  object \n",
      " 3   LocationDesc                53392 non-null  object \n",
      " 4   Datasource                  53392 non-null  object \n",
      " 5   Class                       53392 non-null  object \n",
      " 6   Topic                       53392 non-null  object \n",
      " 7   Question                    53392 non-null  object \n",
      " 8   Data_Value_Unit             0 non-null      float64\n",
      " 9   Data_Value_Type             53392 non-null  object \n",
      " 10  Data_Value                  48346 non-null  float64\n",
      " 11  Data_Value_Alt              48346 non-null  float64\n",
      " 12  Data_Value_Footnote_Symbol  5046 non-null   object \n",
      " 13  Data_Value_Footnote         5046 non-null   object \n",
      " 14  Low_Confidence_Limit        48346 non-null  float64\n",
      " 15  High_Confidence_Limit       48346 non-null  float64\n",
      " 16  Sample_Size                 48346 non-null  float64\n",
      " 17  Total                       1907 non-null   object \n",
      " 18  Age(years)                  11438 non-null  object \n",
      " 19  Education                   7628 non-null   object \n",
      " 20  Gender                      3814 non-null   object \n",
      " 21  Income                      13349 non-null  object \n",
      " 22  Race/Ethnicity              15256 non-null  object \n",
      " 23  GeoLocation                 52384 non-null  object \n",
      " 24  ClassID                     53392 non-null  object \n",
      " 25  TopicID                     53392 non-null  object \n",
      " 26  QuestionID                  53392 non-null  object \n",
      " 27  DataValueTypeID             53392 non-null  object \n",
      " 28  LocationID                  53392 non-null  int64  \n",
      " 29  StratificationCategory1     53392 non-null  object \n",
      " 30  Stratification1             53392 non-null  object \n",
      " 31  StratificationCategoryId1   53392 non-null  object \n",
      " 32  StratificationID1           53392 non-null  object \n",
      "dtypes: float64(6), int64(3), object(24)\n",
      "memory usage: 13.4+ MB\n"
     ]
    }
   ],
   "source": [
    "df.info()"
   ]
  },
  {
   "cell_type": "code",
   "execution_count": 75,
   "id": "46fc7d38",
   "metadata": {},
   "outputs": [
    {
     "data": {
      "text/html": [
       "<div>\n",
       "<style scoped>\n",
       "    .dataframe tbody tr th:only-of-type {\n",
       "        vertical-align: middle;\n",
       "    }\n",
       "\n",
       "    .dataframe tbody tr th {\n",
       "        vertical-align: top;\n",
       "    }\n",
       "\n",
       "    .dataframe thead th {\n",
       "        text-align: right;\n",
       "    }\n",
       "</style>\n",
       "<table border=\"1\" class=\"dataframe\">\n",
       "  <thead>\n",
       "    <tr style=\"text-align: right;\">\n",
       "      <th></th>\n",
       "      <th>YearStart</th>\n",
       "      <th>YearEnd</th>\n",
       "      <th>Data_Value_Unit</th>\n",
       "      <th>Data_Value</th>\n",
       "      <th>Data_Value_Alt</th>\n",
       "      <th>Low_Confidence_Limit</th>\n",
       "      <th>High_Confidence_Limit</th>\n",
       "      <th>Sample_Size</th>\n",
       "      <th>LocationID</th>\n",
       "    </tr>\n",
       "  </thead>\n",
       "  <tbody>\n",
       "    <tr>\n",
       "      <th>count</th>\n",
       "      <td>53392.000000</td>\n",
       "      <td>53392.000000</td>\n",
       "      <td>0.0</td>\n",
       "      <td>48346.000000</td>\n",
       "      <td>48346.000000</td>\n",
       "      <td>48346.000000</td>\n",
       "      <td>48346.000000</td>\n",
       "      <td>48346.00000</td>\n",
       "      <td>53392.000000</td>\n",
       "    </tr>\n",
       "    <tr>\n",
       "      <th>mean</th>\n",
       "      <td>2013.281465</td>\n",
       "      <td>2013.281465</td>\n",
       "      <td>NaN</td>\n",
       "      <td>31.156681</td>\n",
       "      <td>31.156681</td>\n",
       "      <td>26.892227</td>\n",
       "      <td>35.989997</td>\n",
       "      <td>3889.19286</td>\n",
       "      <td>30.282215</td>\n",
       "    </tr>\n",
       "    <tr>\n",
       "      <th>std</th>\n",
       "      <td>1.693300</td>\n",
       "      <td>1.693300</td>\n",
       "      <td>NaN</td>\n",
       "      <td>10.247033</td>\n",
       "      <td>10.247033</td>\n",
       "      <td>10.038584</td>\n",
       "      <td>11.205813</td>\n",
       "      <td>19829.42129</td>\n",
       "      <td>16.821318</td>\n",
       "    </tr>\n",
       "    <tr>\n",
       "      <th>min</th>\n",
       "      <td>2011.000000</td>\n",
       "      <td>2011.000000</td>\n",
       "      <td>NaN</td>\n",
       "      <td>0.900000</td>\n",
       "      <td>0.900000</td>\n",
       "      <td>0.300000</td>\n",
       "      <td>3.000000</td>\n",
       "      <td>50.00000</td>\n",
       "      <td>1.000000</td>\n",
       "    </tr>\n",
       "    <tr>\n",
       "      <th>25%</th>\n",
       "      <td>2012.000000</td>\n",
       "      <td>2012.000000</td>\n",
       "      <td>NaN</td>\n",
       "      <td>24.100000</td>\n",
       "      <td>24.100000</td>\n",
       "      <td>20.000000</td>\n",
       "      <td>28.200000</td>\n",
       "      <td>566.00000</td>\n",
       "      <td>17.000000</td>\n",
       "    </tr>\n",
       "    <tr>\n",
       "      <th>50%</th>\n",
       "      <td>2013.000000</td>\n",
       "      <td>2013.000000</td>\n",
       "      <td>NaN</td>\n",
       "      <td>30.700000</td>\n",
       "      <td>30.700000</td>\n",
       "      <td>26.450000</td>\n",
       "      <td>35.600000</td>\n",
       "      <td>1209.00000</td>\n",
       "      <td>30.000000</td>\n",
       "    </tr>\n",
       "    <tr>\n",
       "      <th>75%</th>\n",
       "      <td>2015.000000</td>\n",
       "      <td>2015.000000</td>\n",
       "      <td>NaN</td>\n",
       "      <td>37.000000</td>\n",
       "      <td>37.000000</td>\n",
       "      <td>32.900000</td>\n",
       "      <td>42.200000</td>\n",
       "      <td>2519.00000</td>\n",
       "      <td>44.000000</td>\n",
       "    </tr>\n",
       "    <tr>\n",
       "      <th>max</th>\n",
       "      <td>2016.000000</td>\n",
       "      <td>2016.000000</td>\n",
       "      <td>NaN</td>\n",
       "      <td>77.600000</td>\n",
       "      <td>77.600000</td>\n",
       "      <td>69.500000</td>\n",
       "      <td>87.700000</td>\n",
       "      <td>476876.00000</td>\n",
       "      <td>78.000000</td>\n",
       "    </tr>\n",
       "  </tbody>\n",
       "</table>\n",
       "</div>"
      ],
      "text/plain": [
       "          YearStart       YearEnd  Data_Value_Unit    Data_Value  \\\n",
       "count  53392.000000  53392.000000              0.0  48346.000000   \n",
       "mean    2013.281465   2013.281465              NaN     31.156681   \n",
       "std        1.693300      1.693300              NaN     10.247033   \n",
       "min     2011.000000   2011.000000              NaN      0.900000   \n",
       "25%     2012.000000   2012.000000              NaN     24.100000   \n",
       "50%     2013.000000   2013.000000              NaN     30.700000   \n",
       "75%     2015.000000   2015.000000              NaN     37.000000   \n",
       "max     2016.000000   2016.000000              NaN     77.600000   \n",
       "\n",
       "       Data_Value_Alt  Low_Confidence_Limit  High_Confidence_Limit   \\\n",
       "count    48346.000000          48346.000000            48346.000000   \n",
       "mean        31.156681             26.892227               35.989997   \n",
       "std         10.247033             10.038584               11.205813   \n",
       "min          0.900000              0.300000                3.000000   \n",
       "25%         24.100000             20.000000               28.200000   \n",
       "50%         30.700000             26.450000               35.600000   \n",
       "75%         37.000000             32.900000               42.200000   \n",
       "max         77.600000             69.500000               87.700000   \n",
       "\n",
       "        Sample_Size    LocationID  \n",
       "count   48346.00000  53392.000000  \n",
       "mean     3889.19286     30.282215  \n",
       "std     19829.42129     16.821318  \n",
       "min        50.00000      1.000000  \n",
       "25%       566.00000     17.000000  \n",
       "50%      1209.00000     30.000000  \n",
       "75%      2519.00000     44.000000  \n",
       "max    476876.00000     78.000000  "
      ]
     },
     "execution_count": 75,
     "metadata": {},
     "output_type": "execute_result"
    }
   ],
   "source": [
    "df.describe()"
   ]
  },
  {
   "cell_type": "code",
   "execution_count": 76,
   "id": "47f63d5c",
   "metadata": {},
   "outputs": [],
   "source": [
    "col_del=['Data_Value_Unit','GeoLocation','LocationID','LocationAbbr','Datasource','Topic','Data_Value_Type','Race/Ethnicity','ClassID','TopicID','QuestionID','DataValueTypeID','StratificationCategory1','StratificationCategoryId1','Stratification1','Total','Data_Value_Footnote_Symbol','YearEnd','YearStart','Data_Value_Footnote','Data_Value_Alt','Low_Confidence_Limit','High_Confidence_Limit ','Sample_Size','StratificationID1','Question','LocationDesc','Gender']\n",
    "df=df.drop(columns=col_del)"
   ]
  },
  {
   "cell_type": "code",
   "execution_count": 77,
   "id": "657ada92",
   "metadata": {},
   "outputs": [
    {
     "data": {
      "text/html": [
       "<div>\n",
       "<style scoped>\n",
       "    .dataframe tbody tr th:only-of-type {\n",
       "        vertical-align: middle;\n",
       "    }\n",
       "\n",
       "    .dataframe tbody tr th {\n",
       "        vertical-align: top;\n",
       "    }\n",
       "\n",
       "    .dataframe thead th {\n",
       "        text-align: right;\n",
       "    }\n",
       "</style>\n",
       "<table border=\"1\" class=\"dataframe\">\n",
       "  <thead>\n",
       "    <tr style=\"text-align: right;\">\n",
       "      <th></th>\n",
       "      <th>Class</th>\n",
       "      <th>Data_Value</th>\n",
       "      <th>Age(years)</th>\n",
       "      <th>Education</th>\n",
       "      <th>Income</th>\n",
       "    </tr>\n",
       "  </thead>\n",
       "  <tbody>\n",
       "    <tr>\n",
       "      <th>4876</th>\n",
       "      <td>Physical Activity</td>\n",
       "      <td>17.0</td>\n",
       "      <td>NaN</td>\n",
       "      <td>NaN</td>\n",
       "      <td>$25,000 - $34,999</td>\n",
       "    </tr>\n",
       "    <tr>\n",
       "      <th>2088</th>\n",
       "      <td>Fruits and Vegetables</td>\n",
       "      <td>39.9</td>\n",
       "      <td>NaN</td>\n",
       "      <td>NaN</td>\n",
       "      <td>NaN</td>\n",
       "    </tr>\n",
       "    <tr>\n",
       "      <th>51334</th>\n",
       "      <td>Obesity / Weight Status</td>\n",
       "      <td>NaN</td>\n",
       "      <td>NaN</td>\n",
       "      <td>NaN</td>\n",
       "      <td>NaN</td>\n",
       "    </tr>\n",
       "    <tr>\n",
       "      <th>15236</th>\n",
       "      <td>Obesity / Weight Status</td>\n",
       "      <td>5.9</td>\n",
       "      <td>NaN</td>\n",
       "      <td>NaN</td>\n",
       "      <td>NaN</td>\n",
       "    </tr>\n",
       "    <tr>\n",
       "      <th>10077</th>\n",
       "      <td>Physical Activity</td>\n",
       "      <td>32.2</td>\n",
       "      <td>55 - 64</td>\n",
       "      <td>NaN</td>\n",
       "      <td>NaN</td>\n",
       "    </tr>\n",
       "    <tr>\n",
       "      <th>26754</th>\n",
       "      <td>Physical Activity</td>\n",
       "      <td>48.9</td>\n",
       "      <td>NaN</td>\n",
       "      <td>NaN</td>\n",
       "      <td>NaN</td>\n",
       "    </tr>\n",
       "  </tbody>\n",
       "</table>\n",
       "</div>"
      ],
      "text/plain": [
       "                         Class  Data_Value Age(years) Education  \\\n",
       "4876         Physical Activity        17.0        NaN       NaN   \n",
       "2088     Fruits and Vegetables        39.9        NaN       NaN   \n",
       "51334  Obesity / Weight Status         NaN        NaN       NaN   \n",
       "15236  Obesity / Weight Status         5.9        NaN       NaN   \n",
       "10077        Physical Activity        32.2    55 - 64       NaN   \n",
       "26754        Physical Activity        48.9        NaN       NaN   \n",
       "\n",
       "                  Income  \n",
       "4876   $25,000 - $34,999  \n",
       "2088                 NaN  \n",
       "51334                NaN  \n",
       "15236                NaN  \n",
       "10077                NaN  \n",
       "26754                NaN  "
      ]
     },
     "execution_count": 77,
     "metadata": {},
     "output_type": "execute_result"
    }
   ],
   "source": [
    "df.sample(6)"
   ]
  },
  {
   "cell_type": "code",
   "execution_count": 78,
   "id": "8ffec704",
   "metadata": {},
   "outputs": [
    {
     "name": "stdout",
     "output_type": "stream",
     "text": [
      "<class 'pandas.core.frame.DataFrame'>\n",
      "RangeIndex: 53392 entries, 0 to 53391\n",
      "Data columns (total 5 columns):\n",
      " #   Column      Non-Null Count  Dtype  \n",
      "---  ------      --------------  -----  \n",
      " 0   Class       53392 non-null  object \n",
      " 1   Data_Value  48346 non-null  float64\n",
      " 2   Age(years)  11438 non-null  object \n",
      " 3   Education   7628 non-null   object \n",
      " 4   Income      13349 non-null  object \n",
      "dtypes: float64(1), object(4)\n",
      "memory usage: 2.0+ MB\n"
     ]
    }
   ],
   "source": [
    "df.info() # All data is in object form"
   ]
  },
  {
   "cell_type": "code",
   "execution_count": 79,
   "id": "04c524b8",
   "metadata": {},
   "outputs": [
    {
     "data": {
      "text/plain": [
       "Class             0\n",
       "Data_Value     5046\n",
       "Age(years)    41954\n",
       "Education     45764\n",
       "Income        40043\n",
       "dtype: int64"
      ]
     },
     "execution_count": 79,
     "metadata": {},
     "output_type": "execute_result"
    }
   ],
   "source": [
    "df.isnull().sum()"
   ]
  },
  {
   "cell_type": "code",
   "execution_count": 80,
   "id": "82d8f353",
   "metadata": {},
   "outputs": [],
   "source": [
    "row_to_del=df[(df['Education'].isnull()==True) & (df['Income'].isnull()==True) & (df['Age(years)'].isnull()==True) & (df['Data_Value'].isnull()==True)].index\n",
    "df.drop(row_to_del,inplace=True)"
   ]
  },
  {
   "cell_type": "code",
   "execution_count": 81,
   "id": "4f257ced",
   "metadata": {},
   "outputs": [
    {
     "data": {
      "text/plain": [
       "(48346, 5)"
      ]
     },
     "execution_count": 81,
     "metadata": {},
     "output_type": "execute_result"
    }
   ],
   "source": [
    "df.shape # we removed most of missing values"
   ]
  },
  {
   "cell_type": "code",
   "execution_count": 82,
   "id": "497e5cf4",
   "metadata": {},
   "outputs": [
    {
     "data": {
      "text/plain": [
       "Class             0\n",
       "Data_Value        0\n",
       "Age(years)    36908\n",
       "Education     40718\n",
       "Income        34997\n",
       "dtype: int64"
      ]
     },
     "execution_count": 82,
     "metadata": {},
     "output_type": "execute_result"
    }
   ],
   "source": [
    "df.isnull().sum()"
   ]
  },
  {
   "cell_type": "code",
   "execution_count": 83,
   "id": "850db6cc",
   "metadata": {},
   "outputs": [
    {
     "data": {
      "text/plain": [
       "0.8422206594133951"
      ]
     },
     "execution_count": 83,
     "metadata": {},
     "output_type": "execute_result"
    }
   ],
   "source": [
    "df['Education'].isnull().sum()/len(df['Education'])# There are 84 percent of null values we can drop that columns"
   ]
  },
  {
   "cell_type": "code",
   "execution_count": 84,
   "id": "fd49a87c",
   "metadata": {},
   "outputs": [],
   "source": [
    "df.drop(columns=['Education','Age(years)'],inplace=True)"
   ]
  },
  {
   "cell_type": "code",
   "execution_count": 86,
   "id": "ddf43558",
   "metadata": {},
   "outputs": [
    {
     "data": {
      "text/plain": [
       "0.7238861539734415"
      ]
     },
     "execution_count": 86,
     "metadata": {},
     "output_type": "execute_result"
    }
   ],
   "source": [
    "df['Income'].isnull().sum()/len(df) # We have 72% of null values in the data so we can drop this also"
   ]
  },
  {
   "cell_type": "code",
   "execution_count": 87,
   "id": "d5ecfc69",
   "metadata": {},
   "outputs": [],
   "source": [
    "df.drop(columns='Income',inplace=True)"
   ]
  },
  {
   "cell_type": "code",
   "execution_count": 88,
   "id": "a10490fb",
   "metadata": {},
   "outputs": [
    {
     "data": {
      "text/html": [
       "<div>\n",
       "<style scoped>\n",
       "    .dataframe tbody tr th:only-of-type {\n",
       "        vertical-align: middle;\n",
       "    }\n",
       "\n",
       "    .dataframe tbody tr th {\n",
       "        vertical-align: top;\n",
       "    }\n",
       "\n",
       "    .dataframe thead th {\n",
       "        text-align: right;\n",
       "    }\n",
       "</style>\n",
       "<table border=\"1\" class=\"dataframe\">\n",
       "  <thead>\n",
       "    <tr style=\"text-align: right;\">\n",
       "      <th></th>\n",
       "      <th>Class</th>\n",
       "      <th>Data_Value</th>\n",
       "    </tr>\n",
       "  </thead>\n",
       "  <tbody>\n",
       "    <tr>\n",
       "      <th>15536</th>\n",
       "      <td>Physical Activity</td>\n",
       "      <td>30.5</td>\n",
       "    </tr>\n",
       "    <tr>\n",
       "      <th>34305</th>\n",
       "      <td>Physical Activity</td>\n",
       "      <td>52.4</td>\n",
       "    </tr>\n",
       "    <tr>\n",
       "      <th>45187</th>\n",
       "      <td>Physical Activity</td>\n",
       "      <td>43.6</td>\n",
       "    </tr>\n",
       "    <tr>\n",
       "      <th>50529</th>\n",
       "      <td>Obesity / Weight Status</td>\n",
       "      <td>22.4</td>\n",
       "    </tr>\n",
       "    <tr>\n",
       "      <th>24115</th>\n",
       "      <td>Physical Activity</td>\n",
       "      <td>24.8</td>\n",
       "    </tr>\n",
       "    <tr>\n",
       "      <th>18981</th>\n",
       "      <td>Fruits and Vegetables</td>\n",
       "      <td>44.7</td>\n",
       "    </tr>\n",
       "  </tbody>\n",
       "</table>\n",
       "</div>"
      ],
      "text/plain": [
       "                         Class  Data_Value\n",
       "15536        Physical Activity        30.5\n",
       "34305        Physical Activity        52.4\n",
       "45187        Physical Activity        43.6\n",
       "50529  Obesity / Weight Status        22.4\n",
       "24115        Physical Activity        24.8\n",
       "18981    Fruits and Vegetables        44.7"
      ]
     },
     "execution_count": 88,
     "metadata": {},
     "output_type": "execute_result"
    }
   ],
   "source": [
    "df.sample(6)"
   ]
  },
  {
   "cell_type": "code",
   "execution_count": 89,
   "id": "3d174f57",
   "metadata": {},
   "outputs": [
    {
     "data": {
      "text/html": [
       "<div>\n",
       "<style scoped>\n",
       "    .dataframe tbody tr th:only-of-type {\n",
       "        vertical-align: middle;\n",
       "    }\n",
       "\n",
       "    .dataframe tbody tr th {\n",
       "        vertical-align: top;\n",
       "    }\n",
       "\n",
       "    .dataframe thead th {\n",
       "        text-align: right;\n",
       "    }\n",
       "</style>\n",
       "<table border=\"1\" class=\"dataframe\">\n",
       "  <thead>\n",
       "    <tr style=\"text-align: right;\">\n",
       "      <th></th>\n",
       "      <th>Fruits and Vegetables</th>\n",
       "      <th>Obesity / Weight Status</th>\n",
       "      <th>Physical Activity</th>\n",
       "    </tr>\n",
       "  </thead>\n",
       "  <tbody>\n",
       "    <tr>\n",
       "      <th>0</th>\n",
       "      <td>0</td>\n",
       "      <td>1</td>\n",
       "      <td>0</td>\n",
       "    </tr>\n",
       "    <tr>\n",
       "      <th>1</th>\n",
       "      <td>0</td>\n",
       "      <td>1</td>\n",
       "      <td>0</td>\n",
       "    </tr>\n",
       "    <tr>\n",
       "      <th>2</th>\n",
       "      <td>0</td>\n",
       "      <td>1</td>\n",
       "      <td>0</td>\n",
       "    </tr>\n",
       "    <tr>\n",
       "      <th>3</th>\n",
       "      <td>0</td>\n",
       "      <td>1</td>\n",
       "      <td>0</td>\n",
       "    </tr>\n",
       "    <tr>\n",
       "      <th>4</th>\n",
       "      <td>0</td>\n",
       "      <td>1</td>\n",
       "      <td>0</td>\n",
       "    </tr>\n",
       "    <tr>\n",
       "      <th>...</th>\n",
       "      <td>...</td>\n",
       "      <td>...</td>\n",
       "      <td>...</td>\n",
       "    </tr>\n",
       "    <tr>\n",
       "      <th>53382</th>\n",
       "      <td>0</td>\n",
       "      <td>0</td>\n",
       "      <td>1</td>\n",
       "    </tr>\n",
       "    <tr>\n",
       "      <th>53383</th>\n",
       "      <td>0</td>\n",
       "      <td>0</td>\n",
       "      <td>1</td>\n",
       "    </tr>\n",
       "    <tr>\n",
       "      <th>53384</th>\n",
       "      <td>0</td>\n",
       "      <td>0</td>\n",
       "      <td>1</td>\n",
       "    </tr>\n",
       "    <tr>\n",
       "      <th>53385</th>\n",
       "      <td>0</td>\n",
       "      <td>0</td>\n",
       "      <td>1</td>\n",
       "    </tr>\n",
       "    <tr>\n",
       "      <th>53386</th>\n",
       "      <td>0</td>\n",
       "      <td>0</td>\n",
       "      <td>1</td>\n",
       "    </tr>\n",
       "  </tbody>\n",
       "</table>\n",
       "<p>48346 rows × 3 columns</p>\n",
       "</div>"
      ],
      "text/plain": [
       "       Fruits and Vegetables  Obesity / Weight Status  Physical Activity\n",
       "0                          0                        1                  0\n",
       "1                          0                        1                  0\n",
       "2                          0                        1                  0\n",
       "3                          0                        1                  0\n",
       "4                          0                        1                  0\n",
       "...                      ...                      ...                ...\n",
       "53382                      0                        0                  1\n",
       "53383                      0                        0                  1\n",
       "53384                      0                        0                  1\n",
       "53385                      0                        0                  1\n",
       "53386                      0                        0                  1\n",
       "\n",
       "[48346 rows x 3 columns]"
      ]
     },
     "execution_count": 89,
     "metadata": {},
     "output_type": "execute_result"
    }
   ],
   "source": [
    "get_dummies=pd.get_dummies(df['Class']).astype('int')\n",
    "get_dummies"
   ]
  },
  {
   "cell_type": "code",
   "execution_count": 90,
   "id": "5018df41",
   "metadata": {},
   "outputs": [
    {
     "data": {
      "text/plain": [
       "Fruits and Vegetables      0\n",
       "Obesity / Weight Status    0\n",
       "Physical Activity          0\n",
       "dtype: int64"
      ]
     },
     "execution_count": 90,
     "metadata": {},
     "output_type": "execute_result"
    }
   ],
   "source": [
    "get_dummies.isnull().sum()"
   ]
  },
  {
   "cell_type": "code",
   "execution_count": 91,
   "id": "982913c1",
   "metadata": {},
   "outputs": [],
   "source": [
    "df=pd.concat([get_dummies,df],axis=1)"
   ]
  },
  {
   "cell_type": "code",
   "execution_count": 92,
   "id": "6ca21431",
   "metadata": {},
   "outputs": [],
   "source": [
    "df.drop(columns='Class',inplace=True)"
   ]
  },
  {
   "cell_type": "code",
   "execution_count": 96,
   "id": "24a8ddd7",
   "metadata": {},
   "outputs": [],
   "source": [
    "df=df.drop(columns=['Fruits and Vegetables','Physical Activity'])"
   ]
  },
  {
   "cell_type": "code",
   "execution_count": 98,
   "id": "ff61f59d",
   "metadata": {},
   "outputs": [
    {
     "data": {
      "text/html": [
       "<div>\n",
       "<style scoped>\n",
       "    .dataframe tbody tr th:only-of-type {\n",
       "        vertical-align: middle;\n",
       "    }\n",
       "\n",
       "    .dataframe tbody tr th {\n",
       "        vertical-align: top;\n",
       "    }\n",
       "\n",
       "    .dataframe thead th {\n",
       "        text-align: right;\n",
       "    }\n",
       "</style>\n",
       "<table border=\"1\" class=\"dataframe\">\n",
       "  <thead>\n",
       "    <tr style=\"text-align: right;\">\n",
       "      <th></th>\n",
       "      <th>Obesity / Weight Status</th>\n",
       "      <th>Data_Value</th>\n",
       "    </tr>\n",
       "  </thead>\n",
       "  <tbody>\n",
       "    <tr>\n",
       "      <th>836</th>\n",
       "      <td>0</td>\n",
       "      <td>22.2</td>\n",
       "    </tr>\n",
       "    <tr>\n",
       "      <th>45340</th>\n",
       "      <td>0</td>\n",
       "      <td>22.5</td>\n",
       "    </tr>\n",
       "    <tr>\n",
       "      <th>19567</th>\n",
       "      <td>0</td>\n",
       "      <td>10.1</td>\n",
       "    </tr>\n",
       "    <tr>\n",
       "      <th>17101</th>\n",
       "      <td>0</td>\n",
       "      <td>18.1</td>\n",
       "    </tr>\n",
       "    <tr>\n",
       "      <th>19550</th>\n",
       "      <td>0</td>\n",
       "      <td>21.2</td>\n",
       "    </tr>\n",
       "  </tbody>\n",
       "</table>\n",
       "</div>"
      ],
      "text/plain": [
       "       Obesity / Weight Status  Data_Value\n",
       "836                          0        22.2\n",
       "45340                        0        22.5\n",
       "19567                        0        10.1\n",
       "17101                        0        18.1\n",
       "19550                        0        21.2"
      ]
     },
     "execution_count": 98,
     "metadata": {},
     "output_type": "execute_result"
    }
   ],
   "source": [
    "df.sample(5)"
   ]
  },
  {
   "cell_type": "code",
   "execution_count": 103,
   "id": "97e4373e",
   "metadata": {},
   "outputs": [],
   "source": [
    "#sns.scatterplot(x=df['Obesity / Weight Status'],y=df['Data_Value'])\n",
    "xy=df[df['Obesity / Weight Status']!=0]"
   ]
  },
  {
   "cell_type": "code",
   "execution_count": 104,
   "id": "0dd81277",
   "metadata": {},
   "outputs": [
    {
     "data": {
      "text/plain": [
       "<Axes: xlabel='Obesity / Weight Status', ylabel='Data_Value'>"
      ]
     },
     "execution_count": 104,
     "metadata": {},
     "output_type": "execute_result"
    },
    {
     "data": {
      "image/png": "[encoded data removed]",
      "text/plain": [
       "<Figure size 640x480 with 1 Axes>"
      ]
     },
     "metadata": {},
     "output_type": "display_data"
    }
   ],
   "source": [
    "sns.scatterplot(x=xy['Obesity / Weight Status'],y=xy['Data_Value'])"
   ]
  },
  {
   "cell_type": "code",
   "execution_count": 105,
   "id": "362b07d7",
   "metadata": {},
   "outputs": [],
   "source": [
    "# Splitting x and y\n",
    "x=df.drop('Data_Value',axis=1)\n",
    "y=df['Data_Value']"
   ]
  },
  {
   "cell_type": "code",
   "execution_count": 113,
   "id": "0820d5da",
   "metadata": {},
   "outputs": [],
   "source": [
    "# Splitting the data to train test and split\n",
    "from sklearn.model_selection import train_test_split\n",
    "x_train,x_test,y_train,y_test=train_test_split(x,y,random_state=12,test_size=0.3)"
   ]
  },
  {
   "cell_type": "code",
   "execution_count": 114,
   "id": "4ec82bc3",
   "metadata": {},
   "outputs": [
    {
     "data": {
      "text/html": [
       "<style>#sk-container-id-3 {color: black;}#sk-container-id-3 pre{padding: 0;}#sk-container-id-3 div.sk-toggleable {background-color: white;}#sk-container-id-3 label.sk-toggleable__label {cursor: pointer;display: block;width: 100%;margin-bottom: 0;padding: 0.3em;box-sizing: border-box;text-align: center;}#sk-container-id-3 label.sk-toggleable__label-arrow:before {content: \"▸\";float: left;margin-right: 0.25em;color: #696969;}#sk-container-id-3 label.sk-toggleable__label-arrow:hover:before {color: black;}#sk-container-id-3 div.sk-estimator:hover label.sk-toggleable__label-arrow:before {color: black;}#sk-container-id-3 div.sk-toggleable__content {max-height: 0;max-width: 0;overflow: hidden;text-align: left;background-color: #f0f8ff;}#sk-container-id-3 div.sk-toggleable__content pre {margin: 0.2em;color: black;border-radius: 0.25em;background-color: #f0f8ff;}#sk-container-id-3 input.sk-toggleable__control:checked~div.sk-toggleable__content {max-height: 200px;max-width: 100%;overflow: auto;}#sk-container-id-3 input.sk-toggleable__control:checked~label.sk-toggleable__label-arrow:before {content: \"▾\";}#sk-container-id-3 div.sk-estimator input.sk-toggleable__control:checked~label.sk-toggleable__label {background-color: #d4ebff;}#sk-container-id-3 div.sk-label input.sk-toggleable__control:checked~label.sk-toggleable__label {background-color: #d4ebff;}#sk-container-id-3 input.sk-hidden--visually {border: 0;clip: rect(1px 1px 1px 1px);clip: rect(1px, 1px, 1px, 1px);height: 1px;margin: -1px;overflow: hidden;padding: 0;position: absolute;width: 1px;}#sk-container-id-3 div.sk-estimator {font-family: monospace;background-color: #f0f8ff;border: 1px dotted black;border-radius: 0.25em;box-sizing: border-box;margin-bottom: 0.5em;}#sk-container-id-3 div.sk-estimator:hover {background-color: #d4ebff;}#sk-container-id-3 div.sk-parallel-item::after {content: \"\";width: 100%;border-bottom: 1px solid gray;flex-grow: 1;}#sk-container-id-3 div.sk-label:hover label.sk-toggleable__label {background-color: #d4ebff;}#sk-container-id-3 div.sk-serial::before {content: \"\";position: absolute;border-left: 1px solid gray;box-sizing: border-box;top: 0;bottom: 0;left: 50%;z-index: 0;}#sk-container-id-3 div.sk-serial {display: flex;flex-direction: column;align-items: center;background-color: white;padding-right: 0.2em;padding-left: 0.2em;position: relative;}#sk-container-id-3 div.sk-item {position: relative;z-index: 1;}#sk-container-id-3 div.sk-parallel {display: flex;align-items: stretch;justify-content: center;background-color: white;position: relative;}#sk-container-id-3 div.sk-item::before, #sk-container-id-3 div.sk-parallel-item::before {content: \"\";position: absolute;border-left: 1px solid gray;box-sizing: border-box;top: 0;bottom: 0;left: 50%;z-index: -1;}#sk-container-id-3 div.sk-parallel-item {display: flex;flex-direction: column;z-index: 1;position: relative;background-color: white;}#sk-container-id-3 div.sk-parallel-item:first-child::after {align-self: flex-end;width: 50%;}#sk-container-id-3 div.sk-parallel-item:last-child::after {align-self: flex-start;width: 50%;}#sk-container-id-3 div.sk-parallel-item:only-child::after {width: 0;}#sk-container-id-3 div.sk-dashed-wrapped {border: 1px dashed gray;margin: 0 0.4em 0.5em 0.4em;box-sizing: border-box;padding-bottom: 0.4em;background-color: white;}#sk-container-id-3 div.sk-label label {font-family: monospace;font-weight: bold;display: inline-block;line-height: 1.2em;}#sk-container-id-3 div.sk-label-container {text-align: center;}#sk-container-id-3 div.sk-container {/* jupyter's `normalize.less` sets `[hidden] { display: none; }` but bootstrap.min.css set `[hidden] { display: none !important; }` so we also need the `!important` here to be able to override the default hidden behavior on the sphinx rendered scikit-learn.org. See: https://github.com/scikit-learn/scikit-learn/issues/21755 */display: inline-block !important;position: relative;}#sk-container-id-3 div.sk-text-repr-fallback {display: none;}</style><div id=\"sk-container-id-3\" class=\"sk-top-container\"><div class=\"sk-text-repr-fallback\"><pre>LinearRegression()</pre><b>In a Jupyter environment, please rerun this cell to show the HTML representation or trust the notebook. <br />On GitHub, the HTML representation is unable to render, please try loading this page with nbviewer.org.</b></div><div class=\"sk-container\" hidden><div class=\"sk-item\"><div class=\"sk-estimator sk-toggleable\"><input class=\"sk-toggleable__control sk-hidden--visually\" id=\"sk-estimator-id-3\" type=\"checkbox\" checked><label for=\"sk-estimator-id-3\" class=\"sk-toggleable__label sk-toggleable__label-arrow\">LinearRegression</label><div class=\"sk-toggleable__content\"><pre>LinearRegression()</pre></div></div></div></div></div>"
      ],
      "text/plain": [
       "LinearRegression()"
      ]
     },
     "execution_count": 114,
     "metadata": {},
     "output_type": "execute_result"
    }
   ],
   "source": [
    "# Creating an linear regression model\n",
    "from sklearn.linear_model import LinearRegression\n",
    "lr=LinearRegression()\n",
    "lr"
   ]
  },
  {
   "cell_type": "code",
   "execution_count": 115,
   "id": "ba46d209",
   "metadata": {},
   "outputs": [
    {
     "data": {
      "text/html": [
       "<style>#sk-container-id-4 {color: black;}#sk-container-id-4 pre{padding: 0;}#sk-container-id-4 div.sk-toggleable {background-color: white;}#sk-container-id-4 label.sk-toggleable__label {cursor: pointer;display: block;width: 100%;margin-bottom: 0;padding: 0.3em;box-sizing: border-box;text-align: center;}#sk-container-id-4 label.sk-toggleable__label-arrow:before {content: \"▸\";float: left;margin-right: 0.25em;color: #696969;}#sk-container-id-4 label.sk-toggleable__label-arrow:hover:before {color: black;}#sk-container-id-4 div.sk-estimator:hover label.sk-toggleable__label-arrow:before {color: black;}#sk-container-id-4 div.sk-toggleable__content {max-height: 0;max-width: 0;overflow: hidden;text-align: left;background-color: #f0f8ff;}#sk-container-id-4 div.sk-toggleable__content pre {margin: 0.2em;color: black;border-radius: 0.25em;background-color: #f0f8ff;}#sk-container-id-4 input.sk-toggleable__control:checked~div.sk-toggleable__content {max-height: 200px;max-width: 100%;overflow: auto;}#sk-container-id-4 input.sk-toggleable__control:checked~label.sk-toggleable__label-arrow:before {content: \"▾\";}#sk-container-id-4 div.sk-estimator input.sk-toggleable__control:checked~label.sk-toggleable__label {background-color: #d4ebff;}#sk-container-id-4 div.sk-label input.sk-toggleable__control:checked~label.sk-toggleable__label {background-color: #d4ebff;}#sk-container-id-4 input.sk-hidden--visually {border: 0;clip: rect(1px 1px 1px 1px);clip: rect(1px, 1px, 1px, 1px);height: 1px;margin: -1px;overflow: hidden;padding: 0;position: absolute;width: 1px;}#sk-container-id-4 div.sk-estimator {font-family: monospace;background-color: #f0f8ff;border: 1px dotted black;border-radius: 0.25em;box-sizing: border-box;margin-bottom: 0.5em;}#sk-container-id-4 div.sk-estimator:hover {background-color: #d4ebff;}#sk-container-id-4 div.sk-parallel-item::after {content: \"\";width: 100%;border-bottom: 1px solid gray;flex-grow: 1;}#sk-container-id-4 div.sk-label:hover label.sk-toggleable__label {background-color: #d4ebff;}#sk-container-id-4 div.sk-serial::before {content: \"\";position: absolute;border-left: 1px solid gray;box-sizing: border-box;top: 0;bottom: 0;left: 50%;z-index: 0;}#sk-container-id-4 div.sk-serial {display: flex;flex-direction: column;align-items: center;background-color: white;padding-right: 0.2em;padding-left: 0.2em;position: relative;}#sk-container-id-4 div.sk-item {position: relative;z-index: 1;}#sk-container-id-4 div.sk-parallel {display: flex;align-items: stretch;justify-content: center;background-color: white;position: relative;}#sk-container-id-4 div.sk-item::before, #sk-container-id-4 div.sk-parallel-item::before {content: \"\";position: absolute;border-left: 1px solid gray;box-sizing: border-box;top: 0;bottom: 0;left: 50%;z-index: -1;}#sk-container-id-4 div.sk-parallel-item {display: flex;flex-direction: column;z-index: 1;position: relative;background-color: white;}#sk-container-id-4 div.sk-parallel-item:first-child::after {align-self: flex-end;width: 50%;}#sk-container-id-4 div.sk-parallel-item:last-child::after {align-self: flex-start;width: 50%;}#sk-container-id-4 div.sk-parallel-item:only-child::after {width: 0;}#sk-container-id-4 div.sk-dashed-wrapped {border: 1px dashed gray;margin: 0 0.4em 0.5em 0.4em;box-sizing: border-box;padding-bottom: 0.4em;background-color: white;}#sk-container-id-4 div.sk-label label {font-family: monospace;font-weight: bold;display: inline-block;line-height: 1.2em;}#sk-container-id-4 div.sk-label-container {text-align: center;}#sk-container-id-4 div.sk-container {/* jupyter's `normalize.less` sets `[hidden] { display: none; }` but bootstrap.min.css set `[hidden] { display: none !important; }` so we also need the `!important` here to be able to override the default hidden behavior on the sphinx rendered scikit-learn.org. See: https://github.com/scikit-learn/scikit-learn/issues/21755 */display: inline-block !important;position: relative;}#sk-container-id-4 div.sk-text-repr-fallback {display: none;}</style><div id=\"sk-container-id-4\" class=\"sk-top-container\"><div class=\"sk-text-repr-fallback\"><pre>LinearRegression()</pre><b>In a Jupyter environment, please rerun this cell to show the HTML representation or trust the notebook. <br />On GitHub, the HTML representation is unable to render, please try loading this page with nbviewer.org.</b></div><div class=\"sk-container\" hidden><div class=\"sk-item\"><div class=\"sk-estimator sk-toggleable\"><input class=\"sk-toggleable__control sk-hidden--visually\" id=\"sk-estimator-id-4\" type=\"checkbox\" checked><label for=\"sk-estimator-id-4\" class=\"sk-toggleable__label sk-toggleable__label-arrow\">LinearRegression</label><div class=\"sk-toggleable__content\"><pre>LinearRegression()</pre></div></div></div></div></div>"
      ],
      "text/plain": [
       "LinearRegression()"
      ]
     },
     "execution_count": 115,
     "metadata": {},
     "output_type": "execute_result"
    }
   ],
   "source": [
    "lr.fit(x_train,y_train)"
   ]
  },
  {
   "cell_type": "code",
   "execution_count": 116,
   "id": "c06d73ab",
   "metadata": {},
   "outputs": [],
   "source": [
    "y_pred=lr.predict(x_test)"
   ]
  },
  {
   "cell_type": "code",
   "execution_count": 117,
   "id": "da1fadd5",
   "metadata": {},
   "outputs": [
    {
     "data": {
      "text/plain": [
       "array([30.74008742, 30.74008742, 30.74008742, ..., 31.87882847,\n",
       "       31.87882847, 31.87882847])"
      ]
     },
     "execution_count": 117,
     "metadata": {},
     "output_type": "execute_result"
    }
   ],
   "source": [
    "y_pred"
   ]
  },
  {
   "cell_type": "code",
   "execution_count": 124,
   "id": "f3f2260c",
   "metadata": {},
   "outputs": [],
   "source": [
    "from sklearn.metrics import r2_score, mean_squared_error"
   ]
  },
  {
   "cell_type": "code",
   "execution_count": 125,
   "id": "1d02c580",
   "metadata": {},
   "outputs": [
    {
     "data": {
      "text/plain": [
       "-357.07730016171297"
      ]
     },
     "execution_count": 125,
     "metadata": {},
     "output_type": "execute_result"
    }
   ],
   "source": [
    "r2_score(y_pred,y_test)"
   ]
  },
  {
   "cell_type": "code",
   "execution_count": 126,
   "id": "2015ddc8",
   "metadata": {},
   "outputs": [
    {
     "data": {
      "text/plain": [
       "103.16665376252942"
      ]
     },
     "execution_count": 126,
     "metadata": {},
     "output_type": "execute_result"
    }
   ],
   "source": [
    "mean_squared_error(y_pred,y_test)"
   ]
  }
 ],
 "metadata": {
  "kernelspec": {
   "display_name": "Python 3 (ipykernel)",
   "language": "python",
   "name": "python3"
  },
  "language_info": {
   "codemirror_mode": {
    "name": "ipython",
    "version": 3
   },
   "file_extension": ".py",
   "mimetype": "text/x-python",
   "name": "python",
   "nbconvert_exporter": "python",
   "pygments_lexer": "ipython3",
   "version": "3.11.5"
  }
 },
 "nbformat": 4,
 "nbformat_minor": 5
}
